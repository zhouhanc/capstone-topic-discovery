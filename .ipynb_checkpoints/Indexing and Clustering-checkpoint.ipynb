{
 "cells": [
  {
   "cell_type": "code",
   "execution_count": 1,
   "id": "9280acaf",
   "metadata": {},
   "outputs": [],
   "source": [
    "import numpy as np\n",
    "import pandas as pd\n",
    "import matplotlib.pyplot as plt\n",
    "from sentence_transformers import SentenceTransformer, util\n",
    "from tqdm import tqdm\n",
    "import time\n",
    "import faiss\n",
    "import warnings\n",
    "warnings.filterwarnings(\"ignore\", category=FutureWarning)"
   ]
  },
  {
   "cell_type": "code",
   "execution_count": 2,
   "id": "63fa938d",
   "metadata": {},
   "outputs": [
    {
     "name": "stderr",
     "output_type": "stream",
     "text": [
      "/Users/Sylvia/opt/anaconda3/lib/python3.8/site-packages/IPython/core/interactiveshell.py:3203: DtypeWarning: Columns (15,19) have mixed types.Specify dtype option on import or set low_memory=False.\n",
      "  has_raised = await self.run_ast_nodes(code_ast.body, cell_name,\n"
     ]
    }
   ],
   "source": [
    "wendy_data_directory = '/users/Wendy/Capstone/saudi_arabia_112019_tweets_csv_hashed_1.csv'\n",
    "gefei_data_directory = '/Users/Sylvia/Desktop/1006/saudi_arabia_112019_tweets_csv_hashed/saudi_arabia_112019_tweets_csv_hashed_1.csv'\n",
    "tweets = pd.read_csv(gefei_data_directory)\n",
    "tweets = tweets.drop_duplicates()"
   ]
  },
  {
   "cell_type": "code",
   "execution_count": 3,
   "id": "ad96761d",
   "metadata": {},
   "outputs": [],
   "source": [
    "import re\n",
    "\n",
    "def tokenize_mentions_and_links(text):\n",
    "    # Remove mentions\n",
    "    text = re.sub(r'@\\w+', '@USER', text)\n",
    "\n",
    "    # Remove URLs\n",
    "    text = re.sub(r'http\\S+', '<url>', text)\n",
    "\n",
    "    return text\n",
    "\n",
    "tweets['cleaned_text'] = tweets['tweet_text'].apply(tokenize_mentions_and_links)"
   ]
  },
  {
   "cell_type": "markdown",
   "id": "8397fdc0",
   "metadata": {},
   "source": [
    "## faiss"
   ]
  },
  {
   "cell_type": "markdown",
   "id": "ac02aa60",
   "metadata": {},
   "source": [
    "### 500 english tweets"
   ]
  },
  {
   "cell_type": "code",
   "execution_count": 4,
   "id": "66e42d37",
   "metadata": {},
   "outputs": [
    {
     "name": "stdout",
     "output_type": "stream",
     "text": [
      "MiniLM Embedding Time for 500 Tweets: 15.62786078453064\n"
     ]
    }
   ],
   "source": [
    "sample_tweets_english = tweets[(tweets['tweet_language'] == 'en') & (tweets['is_retweet']==False)]['cleaned_text'][:500]\n",
    "sample_tweets_english=sample_tweets_english.tolist()\n",
    "model = SentenceTransformer('sentence-transformers/paraphrase-multilingual-MiniLM-L12-v2')\n",
    "start_time = time.time()\n",
    "embeddings_english = model.encode(list(sample_tweets_english), convert_to_tensor=True)\n",
    "end_time = time.time()\n",
    "print(\"MiniLM Embedding Time for 500 Tweets: {}\".format(end_time-start_time))\n",
    "\n"
   ]
  },
  {
   "cell_type": "markdown",
   "id": "64738c23",
   "metadata": {},
   "source": [
    "### 5000 tweets"
   ]
  },
  {
   "cell_type": "code",
   "execution_count": 5,
   "id": "44b065f5",
   "metadata": {},
   "outputs": [
    {
     "name": "stdout",
     "output_type": "stream",
     "text": [
      "MiniLM Embedding Time for 5000 Tweets: 209.07236409187317\n"
     ]
    }
   ],
   "source": [
    "model_MiniLM = SentenceTransformer('sentence-transformers/paraphrase-multilingual-MiniLM-L12-v2')\n",
    "start_time = time.time()\n",
    "sample_tweets_5000 = tweets[:5000]['cleaned_text']\n",
    "embeddings_5000 = model.encode(list(sample_tweets_5000), convert_to_tensor=True)\n",
    "end_time = time.time()\n",
    "print(\"MiniLM Embedding Time for 5000 Tweets: {}\".format(end_time-start_time))"
   ]
  },
  {
   "cell_type": "markdown",
   "id": "1872d117",
   "metadata": {},
   "source": [
    "## How to use faiss to do clustering?"
   ]
  },
  {
   "cell_type": "markdown",
   "id": "7d8b48c9",
   "metadata": {},
   "source": [
    "### Clustering with flat indexing"
   ]
  },
  {
   "cell_type": "code",
   "execution_count": 22,
   "id": "ce160773",
   "metadata": {},
   "outputs": [],
   "source": [
    "embeddings_arr = np.array(embeddings_english)"
   ]
  },
  {
   "cell_type": "code",
   "execution_count": 23,
   "id": "b5fc5173",
   "metadata": {},
   "outputs": [
    {
     "name": "stdout",
     "output_type": "stream",
     "text": [
      "\n",
      "Clustering 500 points in 384D to 5 clusters, redo 1 times, 100 iterations\n",
      "  Preprocessing in 0.00 s\n",
      "  Iteration 0 (0.00 s, search 0.00 s): objective=456.324 imbalance=1.500 nsplit=0       \r",
      "  Iteration 1 (0.01 s, search 0.01 s): objective=280.869 imbalance=1.182 nsplit=0       \r",
      "  Iteration 2 (0.01 s, search 0.01 s): objective=271.851 imbalance=1.139 nsplit=0       \r",
      "  Iteration 3 (0.02 s, search 0.01 s): objective=269.98 imbalance=1.127 nsplit=0       \r",
      "  Iteration 4 (0.02 s, search 0.01 s): objective=269.141 imbalance=1.119 nsplit=0       \r",
      "  Iteration 5 (0.02 s, search 0.02 s): objective=268.668 imbalance=1.120 nsplit=0       \r",
      "  Iteration 6 (0.02 s, search 0.02 s): objective=268.218 imbalance=1.121 nsplit=0       \r",
      "  Iteration 7 (0.02 s, search 0.02 s): objective=267.841 imbalance=1.125 nsplit=0       \r",
      "  Iteration 8 (0.03 s, search 0.02 s): objective=267.652 imbalance=1.135 nsplit=0       \r",
      "  Iteration 9 (0.03 s, search 0.02 s): objective=267.339 imbalance=1.135 nsplit=0       \r",
      "  Iteration 10 (0.03 s, search 0.02 s): objective=267.185 imbalance=1.136 nsplit=0       \r",
      "  Iteration 11 (0.03 s, search 0.03 s): objective=266.977 imbalance=1.137 nsplit=0       \r",
      "  Iteration 12 (0.03 s, search 0.03 s): objective=266.683 imbalance=1.139 nsplit=0       \r",
      "  Iteration 13 (0.04 s, search 0.03 s): objective=266.042 imbalance=1.137 nsplit=0       \r",
      "  Iteration 14 (0.04 s, search 0.03 s): objective=265.129 imbalance=1.145 nsplit=0       \r",
      "  Iteration 15 (0.04 s, search 0.03 s): objective=264.787 imbalance=1.150 nsplit=0       \r",
      "  Iteration 16 (0.04 s, search 0.03 s): objective=264.702 imbalance=1.150 nsplit=0       \r",
      "  Iteration 17 (0.04 s, search 0.04 s): objective=264.691 imbalance=1.149 nsplit=0       \r",
      "  Iteration 18 (0.04 s, search 0.04 s): objective=264.68 imbalance=1.149 nsplit=0       \r",
      "  Iteration 19 (0.05 s, search 0.04 s): objective=264.68 imbalance=1.149 nsplit=0       \r",
      "  Iteration 20 (0.05 s, search 0.04 s): objective=264.68 imbalance=1.149 nsplit=0       \r",
      "  Iteration 21 (0.05 s, search 0.04 s): objective=264.68 imbalance=1.149 nsplit=0       \r",
      "  Iteration 22 (0.05 s, search 0.04 s): objective=264.68 imbalance=1.149 nsplit=0       \r",
      "  Iteration 23 (0.05 s, search 0.04 s): objective=264.68 imbalance=1.149 nsplit=0       \r",
      "  Iteration 24 (0.05 s, search 0.05 s): objective=264.68 imbalance=1.149 nsplit=0       \r",
      "  Iteration 25 (0.06 s, search 0.05 s): objective=264.68 imbalance=1.149 nsplit=0       \r",
      "  Iteration 26 (0.06 s, search 0.05 s): objective=264.68 imbalance=1.149 nsplit=0       \r",
      "  Iteration 27 (0.06 s, search 0.05 s): objective=264.68 imbalance=1.149 nsplit=0       \r",
      "  Iteration 28 (0.06 s, search 0.05 s): objective=264.68 imbalance=1.149 nsplit=0       \r",
      "  Iteration 29 (0.06 s, search 0.05 s): objective=264.68 imbalance=1.149 nsplit=0       \r",
      "  Iteration 30 (0.06 s, search 0.05 s): objective=264.68 imbalance=1.149 nsplit=0       \r",
      "  Iteration 31 (0.06 s, search 0.05 s): objective=264.68 imbalance=1.149 nsplit=0       \r",
      "  Iteration 32 (0.06 s, search 0.06 s): objective=264.68 imbalance=1.149 nsplit=0       \r",
      "  Iteration 33 (0.06 s, search 0.06 s): objective=264.68 imbalance=1.149 nsplit=0       \r",
      "  Iteration 34 (0.06 s, search 0.06 s): objective=264.68 imbalance=1.149 nsplit=0       \r",
      "  Iteration 35 (0.07 s, search 0.06 s): objective=264.68 imbalance=1.149 nsplit=0       \r",
      "  Iteration 36 (0.07 s, search 0.06 s): objective=264.68 imbalance=1.149 nsplit=0       \r",
      "  Iteration 37 (0.07 s, search 0.06 s): objective=264.68 imbalance=1.149 nsplit=0       \r",
      "  Iteration 38 (0.07 s, search 0.06 s): objective=264.68 imbalance=1.149 nsplit=0       \r",
      "  Iteration 39 (0.07 s, search 0.06 s): objective=264.68 imbalance=1.149 nsplit=0       \r",
      "  Iteration 40 (0.07 s, search 0.06 s): objective=264.68 imbalance=1.149 nsplit=0       \r",
      "  Iteration 41 (0.07 s, search 0.06 s): objective=264.68 imbalance=1.149 nsplit=0       \r",
      "  Iteration 42 (0.07 s, search 0.06 s): objective=264.68 imbalance=1.149 nsplit=0       \r",
      "  Iteration 43 (0.07 s, search 0.06 s): objective=264.68 imbalance=1.149 nsplit=0       \r",
      "  Iteration 44 (0.07 s, search 0.06 s): objective=264.68 imbalance=1.149 nsplit=0       \r",
      "  Iteration 45 (0.07 s, search 0.07 s): objective=264.68 imbalance=1.149 nsplit=0       \r",
      "  Iteration 46 (0.07 s, search 0.07 s): objective=264.68 imbalance=1.149 nsplit=0       \r",
      "  Iteration 47 (0.08 s, search 0.07 s): objective=264.68 imbalance=1.149 nsplit=0       \r",
      "  Iteration 48 (0.08 s, search 0.07 s): objective=264.68 imbalance=1.149 nsplit=0       \r",
      "  Iteration 49 (0.08 s, search 0.07 s): objective=264.68 imbalance=1.149 nsplit=0       \r",
      "  Iteration 50 (0.08 s, search 0.07 s): objective=264.68 imbalance=1.149 nsplit=0       \r",
      "  Iteration 51 (0.08 s, search 0.07 s): objective=264.68 imbalance=1.149 nsplit=0       \r",
      "  Iteration 52 (0.08 s, search 0.07 s): objective=264.68 imbalance=1.149 nsplit=0       \r",
      "  Iteration 53 (0.08 s, search 0.07 s): objective=264.68 imbalance=1.149 nsplit=0       \r",
      "  Iteration 54 (0.08 s, search 0.07 s): objective=264.68 imbalance=1.149 nsplit=0       \r",
      "  Iteration 55 (0.08 s, search 0.07 s): objective=264.68 imbalance=1.149 nsplit=0       \r",
      "  Iteration 56 (0.08 s, search 0.08 s): objective=264.68 imbalance=1.149 nsplit=0       \r",
      "  Iteration 57 (0.09 s, search 0.08 s): objective=264.68 imbalance=1.149 nsplit=0       \r",
      "  Iteration 58 (0.09 s, search 0.08 s): objective=264.68 imbalance=1.149 nsplit=0       \r",
      "  Iteration 59 (0.09 s, search 0.08 s): objective=264.68 imbalance=1.149 nsplit=0       \r",
      "  Iteration 60 (0.09 s, search 0.08 s): objective=264.68 imbalance=1.149 nsplit=0       \r",
      "  Iteration 61 (0.09 s, search 0.08 s): objective=264.68 imbalance=1.149 nsplit=0       \r",
      "  Iteration 62 (0.09 s, search 0.08 s): objective=264.68 imbalance=1.149 nsplit=0       \r",
      "  Iteration 63 (0.10 s, search 0.08 s): objective=264.68 imbalance=1.149 nsplit=0       \r",
      "  Iteration 64 (0.10 s, search 0.09 s): objective=264.68 imbalance=1.149 nsplit=0       \r",
      "  Iteration 65 (0.10 s, search 0.09 s): objective=264.68 imbalance=1.149 nsplit=0       \r",
      "  Iteration 66 (0.10 s, search 0.09 s): objective=264.68 imbalance=1.149 nsplit=0       \r",
      "  Iteration 67 (0.10 s, search 0.09 s): objective=264.68 imbalance=1.149 nsplit=0       \r",
      "  Iteration 68 (0.10 s, search 0.09 s): objective=264.68 imbalance=1.149 nsplit=0       \r",
      "  Iteration 69 (0.10 s, search 0.09 s): objective=264.68 imbalance=1.149 nsplit=0       \r",
      "  Iteration 70 (0.10 s, search 0.09 s): objective=264.68 imbalance=1.149 nsplit=0       \r",
      "  Iteration 71 (0.10 s, search 0.09 s): objective=264.68 imbalance=1.149 nsplit=0       \r",
      "Clustering without indexing time for 500 Tweets: 0.14035916328430176\n",
      "  Iteration 72 (0.10 s, search 0.09 s): objective=264.68 imbalance=1.149 nsplit=0       \r",
      "  Iteration 73 (0.10 s, search 0.09 s): objective=264.68 imbalance=1.149 nsplit=0       \r",
      "  Iteration 74 (0.10 s, search 0.09 s): objective=264.68 imbalance=1.149 nsplit=0       \r",
      "  Iteration 75 (0.11 s, search 0.09 s): objective=264.68 imbalance=1.149 nsplit=0       \r",
      "  Iteration 76 (0.11 s, search 0.09 s): objective=264.68 imbalance=1.149 nsplit=0       \r",
      "  Iteration 77 (0.11 s, search 0.09 s): objective=264.68 imbalance=1.149 nsplit=0       \r",
      "  Iteration 78 (0.11 s, search 0.10 s): objective=264.68 imbalance=1.149 nsplit=0       \r",
      "  Iteration 79 (0.11 s, search 0.10 s): objective=264.68 imbalance=1.149 nsplit=0       \r",
      "  Iteration 80 (0.11 s, search 0.10 s): objective=264.68 imbalance=1.149 nsplit=0       \r",
      "  Iteration 81 (0.11 s, search 0.10 s): objective=264.68 imbalance=1.149 nsplit=0       \r",
      "  Iteration 82 (0.11 s, search 0.10 s): objective=264.68 imbalance=1.149 nsplit=0       \r",
      "  Iteration 83 (0.11 s, search 0.10 s): objective=264.68 imbalance=1.149 nsplit=0       \r",
      "  Iteration 84 (0.11 s, search 0.10 s): objective=264.68 imbalance=1.149 nsplit=0       \r",
      "  Iteration 85 (0.11 s, search 0.10 s): objective=264.68 imbalance=1.149 nsplit=0       \r",
      "  Iteration 86 (0.11 s, search 0.10 s): objective=264.68 imbalance=1.149 nsplit=0       \r",
      "  Iteration 87 (0.11 s, search 0.10 s): objective=264.68 imbalance=1.149 nsplit=0       \r",
      "  Iteration 88 (0.11 s, search 0.10 s): objective=264.68 imbalance=1.149 nsplit=0       \r",
      "  Iteration 89 (0.12 s, search 0.10 s): objective=264.68 imbalance=1.149 nsplit=0       \r",
      "  Iteration 90 (0.12 s, search 0.10 s): objective=264.68 imbalance=1.149 nsplit=0       \r",
      "  Iteration 91 (0.12 s, search 0.11 s): objective=264.68 imbalance=1.149 nsplit=0       \r",
      "  Iteration 92 (0.12 s, search 0.11 s): objective=264.68 imbalance=1.149 nsplit=0       \r",
      "  Iteration 93 (0.12 s, search 0.11 s): objective=264.68 imbalance=1.149 nsplit=0       \r",
      "  Iteration 94 (0.12 s, search 0.11 s): objective=264.68 imbalance=1.149 nsplit=0       \r",
      "  Iteration 95 (0.12 s, search 0.11 s): objective=264.68 imbalance=1.149 nsplit=0       \r",
      "  Iteration 96 (0.12 s, search 0.11 s): objective=264.68 imbalance=1.149 nsplit=0       \r",
      "  Iteration 97 (0.12 s, search 0.11 s): objective=264.68 imbalance=1.149 nsplit=0       \r",
      "  Iteration 98 (0.12 s, search 0.11 s): objective=264.68 imbalance=1.149 nsplit=0       \r",
      "  Iteration 99 (0.12 s, search 0.11 s): objective=264.68 imbalance=1.149 nsplit=0       \r"
     ]
    },
    {
     "data": {
      "text/html": [
       "<div>\n",
       "<style scoped>\n",
       "    .dataframe tbody tr th:only-of-type {\n",
       "        vertical-align: middle;\n",
       "    }\n",
       "\n",
       "    .dataframe tbody tr th {\n",
       "        vertical-align: top;\n",
       "    }\n",
       "\n",
       "    .dataframe thead th {\n",
       "        text-align: right;\n",
       "    }\n",
       "</style>\n",
       "<table border=\"1\" class=\"dataframe\">\n",
       "  <thead>\n",
       "    <tr style=\"text-align: right;\">\n",
       "      <th></th>\n",
       "      <th>Cluster</th>\n",
       "      <th>Tweet</th>\n",
       "    </tr>\n",
       "  </thead>\n",
       "  <tbody>\n",
       "    <tr>\n",
       "      <th>0</th>\n",
       "      <td>0</td>\n",
       "      <td>Andre 💙💙\\n@USER &lt;url&gt;</td>\n",
       "    </tr>\n",
       "    <tr>\n",
       "      <th>1</th>\n",
       "      <td>0</td>\n",
       "      <td>Oh shit, here we go again! \\n@USER</td>\n",
       "    </tr>\n",
       "    <tr>\n",
       "      <th>2</th>\n",
       "      <td>0</td>\n",
       "      <td>@USER @USER @USER @USER @USER @USER @USER @USE...</td>\n",
       "    </tr>\n",
       "    <tr>\n",
       "      <th>3</th>\n",
       "      <td>0</td>\n",
       "      <td>@USER Work hard \\nFor sure</td>\n",
       "    </tr>\n",
       "    <tr>\n",
       "      <th>4</th>\n",
       "      <td>0</td>\n",
       "      <td>@USER @USER only a sith deals in absolute</td>\n",
       "    </tr>\n",
       "    <tr>\n",
       "      <th>...</th>\n",
       "      <td>...</td>\n",
       "      <td>...</td>\n",
       "    </tr>\n",
       "    <tr>\n",
       "      <th>495</th>\n",
       "      <td>4</td>\n",
       "      <td>@USER They will do anything to make the region...</td>\n",
       "    </tr>\n",
       "    <tr>\n",
       "      <th>496</th>\n",
       "      <td>4</td>\n",
       "      <td>@USER YESSS!!\\nI don't know why they attacking...</td>\n",
       "    </tr>\n",
       "    <tr>\n",
       "      <th>497</th>\n",
       "      <td>4</td>\n",
       "      <td>@USER Iran does only understand the language o...</td>\n",
       "    </tr>\n",
       "    <tr>\n",
       "      <th>498</th>\n",
       "      <td>4</td>\n",
       "      <td>@USER After the ships attack, the internationa...</td>\n",
       "    </tr>\n",
       "    <tr>\n",
       "      <th>499</th>\n",
       "      <td>4</td>\n",
       "      <td>@USER We have to stop Iran of supporting terro...</td>\n",
       "    </tr>\n",
       "  </tbody>\n",
       "</table>\n",
       "<p>500 rows × 2 columns</p>\n",
       "</div>"
      ],
      "text/plain": [
       "     Cluster                                              Tweet\n",
       "0          0                              Andre 💙💙\\n@USER <url>\n",
       "1          0                 Oh shit, here we go again! \\n@USER\n",
       "2          0  @USER @USER @USER @USER @USER @USER @USER @USE...\n",
       "3          0                         @USER Work hard \\nFor sure\n",
       "4          0          @USER @USER only a sith deals in absolute\n",
       "..       ...                                                ...\n",
       "495        4  @USER They will do anything to make the region...\n",
       "496        4  @USER YESSS!!\\nI don't know why they attacking...\n",
       "497        4  @USER Iran does only understand the language o...\n",
       "498        4  @USER After the ships attack, the internationa...\n",
       "499        4  @USER We have to stop Iran of supporting terro...\n",
       "\n",
       "[500 rows x 2 columns]"
      ]
     },
     "execution_count": 23,
     "metadata": {},
     "output_type": "execute_result"
    }
   ],
   "source": [
    "start_time = time.time()\n",
    "num_tweets, embedding_dim = embeddings_arr.shape\n",
    "\n",
    "\n",
    "# Normalize embeddings\n",
    "faiss.normalize_L2(embeddings_arr)\n",
    "\n",
    "\n",
    "num_clusters = 5 #TODO: find K\n",
    "\n",
    "# Initialize k-means clustering index\n",
    "kmeans = faiss.Kmeans(embedding_dim, num_clusters, niter=100, verbose=True)\n",
    "\n",
    "\n",
    "kmeans.train(embeddings_arr)\n",
    "\n",
    "_, cluster_indices = kmeans.index.search(embeddings_arr, 1) # Assign each tweet to a cluster\n",
    "\n",
    "end_time = time.time()\n",
    "print(\"Clustering without indexing time for 500 Tweets: {}\".format(end_time-start_time))\n",
    "\n",
    "# Create a dictionary for each cluster\n",
    "cluster_to_tweets = {cluster_id: [] for cluster_id in range(num_clusters)}\n",
    "\n",
    "# Get the tweet content\n",
    "tweets_content = [ sample_tweets_english[i] for i in range(num_tweets) ]\n",
    "\n",
    "\n",
    "for tweet_idx, cluster_id in enumerate(cluster_indices):\n",
    "    cluster_to_tweets[cluster_id[0]].append(tweets_content[tweet_idx])\n",
    "\n",
    "cluster_data = []\n",
    "for cluster_id, twe in cluster_to_tweets.items():\n",
    "    for tweet in twe:\n",
    "        cluster_data.append([cluster_id, tweet])\n",
    "\n",
    "\n",
    "clusters= pd.DataFrame(cluster_data, columns=[\"Cluster\", \"Tweet\"])\n",
    "\n",
    "clusters\n"
   ]
  },
  {
   "cell_type": "markdown",
   "id": "65d63077",
   "metadata": {},
   "source": [
    "### Try alternative indexing methods"
   ]
  },
  {
   "cell_type": "code",
   "execution_count": 24,
   "id": "77865904",
   "metadata": {},
   "outputs": [
    {
     "name": "stdout",
     "output_type": "stream",
     "text": [
      "Clustering with indexing time for 500 Tweets: 0.05042672157287598\n",
      "Clustering with indexing time for 500 Tweets: 0.03693389892578125\n",
      "Clustering with indexing time for 500 Tweets: 0.031736135482788086\n",
      "Clustering with indexing time for 500 Tweets: 0.03138613700866699\n",
      "Clustering with indexing time for 500 Tweets: 0.02473592758178711\n",
      "Clustering with indexing time for 500 Tweets: 0.033377885818481445\n"
     ]
    },
    {
     "data": {
      "text/plain": [
       "{\"<faiss.swigfaiss_avx2.IndexFlatL2; proxy of <Swig Object of type 'faiss::IndexFlatL2 *' at 0x7fd24e882c60> >\": {'clustering_time': 0.05042672157287598},\n",
       " \"<faiss.swigfaiss_avx2.IndexFlatIP; proxy of <Swig Object of type 'faiss::IndexFlatIP *' at 0x7fd24c7bfbd0> >\": {'clustering_time': 0.03693389892578125},\n",
       " \"<faiss.swigfaiss_avx2.IndexIVFFlat; proxy of <Swig Object of type 'faiss::IndexIVFFlat *' at 0x7fd24c7bfd80> >\": {'clustering_time': 0.031736135482788086},\n",
       " \"<faiss.swigfaiss_avx2.IndexHNSWFlat; proxy of <Swig Object of type 'faiss::IndexHNSWFlat *' at 0x7fd24c7bfe10> >\": {'clustering_time': 0.03138613700866699},\n",
       " \"<faiss.swigfaiss_avx2.IndexLSH; proxy of <Swig Object of type 'faiss::IndexLSH *' at 0x7fd23ec35030> >\": {'clustering_time': 0.02473592758178711},\n",
       " \"<faiss.swigfaiss_avx2.IndexScalarQuantizer; proxy of <Swig Object of type 'faiss::IndexScalarQuantizer *' at 0x7fd24c7a14e0> >\": {'clustering_time': 0.033377885818481445}}"
      ]
     },
     "execution_count": 24,
     "metadata": {},
     "output_type": "execute_result"
    }
   ],
   "source": [
    "num_tweets, embedding_dim = embeddings_arr.shape\n",
    "results = {}\n",
    "K = 5\n",
    "num_clusters = K\n",
    "indexing_methods = [\n",
    "    faiss.IndexFlatL2(embedding_dim),\n",
    "    faiss.IndexFlatIP(embedding_dim),\n",
    "    faiss.IndexIVFFlat(faiss.IndexFlatL2(embedding_dim), embedding_dim, num_clusters, faiss.METRIC_L2),\n",
    "    faiss.IndexHNSWFlat(embedding_dim, num_clusters),  # HNSW index\n",
    "    faiss.IndexLSH(embedding_dim, num_clusters),  # LSH index\n",
    "    faiss.IndexScalarQuantizer(embedding_dim, faiss.ScalarQuantizer.QT_8bit),  # Scalar quantizer\n",
    "]\n",
    "\n",
    "\n",
    "\n",
    "for index_method in indexing_methods:\n",
    "    start_time = time.time()\n",
    "    faiss.normalize_L2(embeddings_arr)\n",
    "\n",
    "    # Initialize a K-Means index in Faiss\n",
    "    index = faiss.IndexFlatL2(embedding_dim)  # L2 distance (Euclidean distance)\n",
    "\n",
    "    # Train the K-Means model\n",
    "    kmeans = faiss.Kmeans(embedding_dim, K)\n",
    "\n",
    "    kmeans.index = index_method\n",
    "\n",
    "\n",
    "    kmeans.train(embeddings_arr)  # You can optionally retrain the model\n",
    "\n",
    "    # Perform clustering\n",
    "    _, cluster_indices = kmeans.index.search(embeddings_arr, 1)  # Assign each point to the nearest cluster\n",
    "\n",
    "    end_time = time.time()\n",
    "    print(\"Clustering with indexing time for 500 Tweets: {}\".format(end_time-start_time))\n",
    "\n",
    "    results[str(index_method)] = {\n",
    "        \"clustering_time\": end_time - start_time}\n",
    "results\n"
   ]
  },
  {
   "cell_type": "markdown",
   "id": "98456af1",
   "metadata": {},
   "source": [
    "### Use 5000 tweets"
   ]
  },
  {
   "cell_type": "markdown",
   "id": "c0a66982",
   "metadata": {},
   "source": [
    "#### With flat indexing"
   ]
  },
  {
   "cell_type": "code",
   "execution_count": 25,
   "id": "735d8149",
   "metadata": {},
   "outputs": [],
   "source": [
    "embeddings_arr_5000 = np.array(embeddings_5000)"
   ]
  },
  {
   "cell_type": "code",
   "execution_count": 26,
   "id": "dde57bd3",
   "metadata": {},
   "outputs": [
    {
     "name": "stdout",
     "output_type": "stream",
     "text": [
      "Clustering without indexing time for 5000 Tweets: 0.07491302490234375\n"
     ]
    },
    {
     "data": {
      "text/html": [
       "<div>\n",
       "<style scoped>\n",
       "    .dataframe tbody tr th:only-of-type {\n",
       "        vertical-align: middle;\n",
       "    }\n",
       "\n",
       "    .dataframe tbody tr th {\n",
       "        vertical-align: top;\n",
       "    }\n",
       "\n",
       "    .dataframe thead th {\n",
       "        text-align: right;\n",
       "    }\n",
       "</style>\n",
       "<table border=\"1\" class=\"dataframe\">\n",
       "  <thead>\n",
       "    <tr style=\"text-align: right;\">\n",
       "      <th></th>\n",
       "      <th>Cluster</th>\n",
       "      <th>Tweet</th>\n",
       "    </tr>\n",
       "  </thead>\n",
       "  <tbody>\n",
       "    <tr>\n",
       "      <th>0</th>\n",
       "      <td>0</td>\n",
       "      <td>(من كان يريد حرث الآخرة نزد له في حرثه ومن كان...</td>\n",
       "    </tr>\n",
       "    <tr>\n",
       "      <th>1</th>\n",
       "      <td>0</td>\n",
       "      <td>سويت كل شي ياماتيتش 💔</td>\n",
       "    </tr>\n",
       "    <tr>\n",
       "      <th>2</th>\n",
       "      <td>0</td>\n",
       "      <td>جوفينكو وش قاعد يسوي!!</td>\n",
       "    </tr>\n",
       "    <tr>\n",
       "      <th>3</th>\n",
       "      <td>0</td>\n",
       "      <td>#اكتب_بيت_شعر_تحبه\\n💜aA &lt;url&gt;</td>\n",
       "    </tr>\n",
       "    <tr>\n",
       "      <th>4</th>\n",
       "      <td>0</td>\n",
       "      <td>مسسسسسسااكم بنفسج 💜\\nشكراا شكراا شكراا لكل من ...</td>\n",
       "    </tr>\n",
       "    <tr>\n",
       "      <th>...</th>\n",
       "      <td>...</td>\n",
       "      <td>...</td>\n",
       "    </tr>\n",
       "    <tr>\n",
       "      <th>4995</th>\n",
       "      <td>4</td>\n",
       "      <td>ساعة صمارينر  اوتوماتيك\\n\\nالتوصيل خلال ساعه ا...</td>\n",
       "    </tr>\n",
       "    <tr>\n",
       "      <th>4996</th>\n",
       "      <td>4</td>\n",
       "      <td>ساعة رولكس اوتوماتيك \\n\\nالتوصيل خلال ساعه الر...</td>\n",
       "    </tr>\n",
       "    <tr>\n",
       "      <th>4997</th>\n",
       "      <td>4</td>\n",
       "      <td>ساعة هوبلو جديد نسائيه\\n\\nالتوصيل خلال ساعه ال...</td>\n",
       "    </tr>\n",
       "    <tr>\n",
       "      <th>4998</th>\n",
       "      <td>4</td>\n",
       "      <td>#كم_ساعه_تقضيها_بالنت_يوميا\\nلا وشحنه يقعد 66 ...</td>\n",
       "    </tr>\n",
       "    <tr>\n",
       "      <th>4999</th>\n",
       "      <td>4</td>\n",
       "      <td>ساعة هوبلو جديد \\n\\nالتوصيل خلال ساعه الرياض\\n...</td>\n",
       "    </tr>\n",
       "  </tbody>\n",
       "</table>\n",
       "<p>5000 rows × 2 columns</p>\n",
       "</div>"
      ],
      "text/plain": [
       "      Cluster                                              Tweet\n",
       "0           0  (من كان يريد حرث الآخرة نزد له في حرثه ومن كان...\n",
       "1           0                              سويت كل شي ياماتيتش 💔\n",
       "2           0                             جوفينكو وش قاعد يسوي!!\n",
       "3           0                      #اكتب_بيت_شعر_تحبه\\n💜aA <url>\n",
       "4           0  مسسسسسسااكم بنفسج 💜\\nشكراا شكراا شكراا لكل من ...\n",
       "...       ...                                                ...\n",
       "4995        4  ساعة صمارينر  اوتوماتيك\\n\\nالتوصيل خلال ساعه ا...\n",
       "4996        4  ساعة رولكس اوتوماتيك \\n\\nالتوصيل خلال ساعه الر...\n",
       "4997        4  ساعة هوبلو جديد نسائيه\\n\\nالتوصيل خلال ساعه ال...\n",
       "4998        4  #كم_ساعه_تقضيها_بالنت_يوميا\\nلا وشحنه يقعد 66 ...\n",
       "4999        4  ساعة هوبلو جديد \\n\\nالتوصيل خلال ساعه الرياض\\n...\n",
       "\n",
       "[5000 rows x 2 columns]"
      ]
     },
     "execution_count": 26,
     "metadata": {},
     "output_type": "execute_result"
    }
   ],
   "source": [
    "start_time = time.time()\n",
    "K = 5\n",
    "num_tweets, embedding_dim = embeddings_arr_5000.shape\n",
    "faiss.normalize_L2(embeddings_arr_5000)\n",
    "\n",
    "# Initialize a K-Means index in Faiss\n",
    "# index = faiss.IndexFlatL2(embedding_dim)  # L2 distance (Euclidean distance)\n",
    "\n",
    "# Train the K-Means model\n",
    "kmeans = faiss.Kmeans(embedding_dim, K)\n",
    "\n",
    "kmeans.train(embeddings_arr_5000)\n",
    "# Perform clustering\n",
    "_, cluster_indices = kmeans.index.search(embeddings_arr_5000, 1)  # Assign each point to the nearest cluster\n",
    "end_time = time.time()\n",
    "print(\"Clustering without indexing time for 5000 Tweets: {}\".format(end_time-start_time))\n",
    "\n",
    "\n",
    "cluster_to_tweets = {cluster_id: [] for cluster_id in range(num_clusters)}\n",
    "\n",
    "tweets_content = [ sample_tweets_5000[i] for i in range(num_tweets) ]\n",
    "\n",
    "\n",
    "for tweet_idx, cluster_id in enumerate(cluster_indices):\n",
    "    cluster_to_tweets[cluster_id[0]].append(tweets_content[tweet_idx])\n",
    "\n",
    "cluster_data = []\n",
    "for cluster_id, twe in cluster_to_tweets.items():\n",
    "    for tweet in twe:\n",
    "        cluster_data.append([cluster_id, tweet])\n",
    "\n",
    "\n",
    "clusters= pd.DataFrame(cluster_data, columns=[\"Cluster\", \"Tweet\"])\n",
    "\n",
    "clusters"
   ]
  },
  {
   "cell_type": "markdown",
   "id": "5ada4259",
   "metadata": {},
   "source": [
    "### Time spent on different indexing methods"
   ]
  },
  {
   "cell_type": "markdown",
   "id": "c9dd8144",
   "metadata": {},
   "source": [
    "HNSW index:   \n",
    "an approximate nearest neighbor search method that organizes data points in a way that speeds up retrieval. It's efficient for very large datasets  \n",
    "LSH index:   \n",
    "It hashes data points in such a way that similar data points have a higher probability of landing in the same bucket.   \n",
    "Scalar quantizer:   \n",
    "a technique to reduce the dimensionality of data by quantizing values. This method is used for efficient storage and retrieval of high-dimensional data with a trade-off in retrieval accuracy."
   ]
  },
  {
   "cell_type": "code",
   "execution_count": 34,
   "id": "2e2e072a",
   "metadata": {
    "scrolled": true
   },
   "outputs": [
    {
     "name": "stdout",
     "output_type": "stream",
     "text": [
      "Clustering with indexing time for 5000 Tweets: 0.15998506546020508\n",
      "Clustering with indexing time for 5000 Tweets: 0.062332868576049805\n",
      "Clustering with indexing time for 5000 Tweets: 0.04856681823730469\n",
      "Clustering with indexing time for 5000 Tweets: 0.04710078239440918\n",
      "Clustering with indexing time for 5000 Tweets: 0.047992706298828125\n",
      "Clustering with indexing time for 5000 Tweets: 0.05798506736755371\n"
     ]
    },
    {
     "data": {
      "text/plain": [
       "{\"<faiss.swigfaiss_avx2.IndexFlatL2; proxy of <Swig Object of type 'faiss::IndexFlatL2 *' at 0x7fd24105d4b0> >\": {'clustering_time': 0.15998506546020508},\n",
       " \"<faiss.swigfaiss_avx2.IndexFlatIP; proxy of <Swig Object of type 'faiss::IndexFlatIP *' at 0x7fd24da06f00> >\": {'clustering_time': 0.062332868576049805},\n",
       " \"<faiss.swigfaiss_avx2.IndexIVFFlat; proxy of <Swig Object of type 'faiss::IndexIVFFlat *' at 0x7fd24da229f0> >\": {'clustering_time': 0.04856681823730469},\n",
       " \"<faiss.swigfaiss_avx2.IndexHNSWFlat; proxy of <Swig Object of type 'faiss::IndexHNSWFlat *' at 0x7fd24c7bfe40> >\": {'clustering_time': 0.04710078239440918},\n",
       " \"<faiss.swigfaiss_avx2.IndexLSH; proxy of <Swig Object of type 'faiss::IndexLSH *' at 0x7fd24da22f00> >\": {'clustering_time': 0.047992706298828125},\n",
       " \"<faiss.swigfaiss_avx2.IndexScalarQuantizer; proxy of <Swig Object of type 'faiss::IndexScalarQuantizer *' at 0x7fd24c7bfb10> >\": {'clustering_time': 0.05798506736755371}}"
      ]
     },
     "execution_count": 34,
     "metadata": {},
     "output_type": "execute_result"
    }
   ],
   "source": [
    "num_tweets, embedding_dim = embeddings_arr_5000.shape\n",
    "results = {}\n",
    "K = 5\n",
    "num_clusters = K\n",
    "indexing_methods = [\n",
    "    faiss.IndexFlatL2(embedding_dim),\n",
    "    faiss.IndexFlatIP(embedding_dim),\n",
    "    faiss.IndexIVFFlat(faiss.IndexFlatL2(embedding_dim), embedding_dim, num_clusters, faiss.METRIC_L2),\n",
    "    faiss.IndexHNSWFlat(embedding_dim, num_clusters),  # HNSW index\n",
    "    faiss.IndexLSH(embedding_dim, num_clusters),  # LSH index\n",
    "    faiss.IndexScalarQuantizer(embedding_dim, faiss.ScalarQuantizer.QT_8bit),  # Scalar quantizer\n",
    "]\n",
    "\n",
    "\n",
    "\n",
    "for index_method in indexing_methods:\n",
    "    start_time = time.time()\n",
    "    faiss.normalize_L2(embeddings_arr_5000)\n",
    "\n",
    "    # Initialize a K-Means index in Faiss\n",
    "    index = faiss.IndexFlatL2(embedding_dim)  # L2 distance (Euclidean distance)\n",
    "\n",
    "    # Train the K-Means model\n",
    "    kmeans = faiss.Kmeans(embedding_dim, K)\n",
    "\n",
    "    kmeans.index = index_method\n",
    "\n",
    "\n",
    "    kmeans.train(embeddings_arr_5000)  # You can optionally retrain the model\n",
    "\n",
    "    # Perform clustering\n",
    "    _, cluster_indices = kmeans.index.search(embeddings_arr_5000, 1)  # Assign each point to the nearest cluster\n",
    "\n",
    "    end_time = time.time()\n",
    "    print(\"Clustering with indexing time for 5000 Tweets: {}\".format(end_time-start_time))\n",
    "\n",
    "    results[str(index_method)] = {\n",
    "        \"clustering_time\": end_time - start_time}\n",
    "results\n"
   ]
  },
  {
   "cell_type": "markdown",
   "id": "a871ac23",
   "metadata": {},
   "source": [
    "### Find the optimal number of clusters using Elbow method"
   ]
  },
  {
   "cell_type": "code",
   "execution_count": 49,
   "id": "e8618ae0",
   "metadata": {
    "scrolled": false
   },
   "outputs": [
    {
     "data": {
      "image/png": "[encoded data removed]",
      "text/plain": [
       "<Figure size 640x480 with 1 Axes>"
      ]
     },
     "metadata": {},
     "output_type": "display_data"
    }
   ],
   "source": [
    "num_tweets, embedding_dim = embeddings_arr_5000.shape\n",
    "\n",
    "\n",
    "# Normalize embeddings\n",
    "faiss.normalize_L2(embeddings_arr_5000)\n",
    "\n",
    "distortions = []\n",
    "\n",
    "max_clusters = 30\n",
    "\n",
    "for num_clusters in range(1, max_clusters + 1):\n",
    "\n",
    "    kmeans = faiss.Kmeans(embedding_dim, num_clusters, niter=100, verbose=False)\n",
    "    kmeans.train(embeddings_arr_5000)\n",
    "\n",
    "    # Assign each tweet to a cluster\n",
    "    _, cluster_indices = kmeans.index.search(embeddings_arr_5000, 1)\n",
    "    \n",
    "    wcss = 0\n",
    "    for cluster_id in range(num_clusters):\n",
    "        cluster_points = embeddings_arr_5000[cluster_indices[:, 0] == cluster_id]\n",
    "        if len(cluster_points) > 0:\n",
    "            cluster_center = np.mean(cluster_points, axis=0)\n",
    "            wcss += np.sum((cluster_points - cluster_center) ** 2)\n",
    "\n",
    "        \n",
    "    # Compute the distortion (sum of squared distances) for this number of clusters\n",
    "#     distortion = np.sum(np.min(np.square(embeddings_arr_5000 - kmeans.centroids[cluster_indices[:, 0]]), axis=1))\n",
    "#     print(kmeans.centroids[cluster_indices[:, 0]].shape,embeddings_arr.shape)\n",
    "\n",
    "    distortions.append(wcss)\n",
    "\n",
    "# Plot the Elbow Method graph\n",
    "plt.plot(range(1, max_clusters + 1), distortions, marker='o')\n",
    "plt.xlabel('Number of Clusters')\n",
    "plt.ylabel('Distortion')\n",
    "plt.title('Elbow Method')\n",
    "plt.show()\n",
    "# print(distortions)"
   ]
  },
  {
   "cell_type": "markdown",
   "id": "e30b9219",
   "metadata": {},
   "source": [
    "## Other clustering method? agglomerative clustering"
   ]
  },
  {
   "cell_type": "markdown",
   "id": "62048c1a",
   "metadata": {},
   "source": [
    "*The agglomerative clustering iteratively merging individual data points or small clusters into larger clusters. It starts with each data point as its own cluster and repeatedly merges the closest pairs of clusters until a desired number of clusters is reached.*"
   ]
  },
  {
   "cell_type": "code",
   "execution_count": 28,
   "id": "9ddec5f4",
   "metadata": {
    "scrolled": false
   },
   "outputs": [],
   "source": [
    "num_tweets, embedding_dim = embeddings_arr_5000.shape\n",
    "faiss.normalize_L2(embeddings_arr)\n",
    "\n",
    "num_clusters = 5\n",
    "\n",
    "# Initialize agglomerative clustering index\n",
    "\n",
    "clustering = faiss.Clustering(embedding_dim, num_clusters)\n",
    "\n",
    "index = faiss.IndexFlatL2(embedding_dim)\n",
    "clustering.clus_index = index\n",
    "\n",
    "clustering.niter = 50\n",
    "\n",
    "# Train the agglomerative clustering model\n",
    "clustering.verbose = False  # Enable verbose output for training\n",
    "clustering.train(embeddings_arr_5000, index)\n",
    "\n",
    "_, labels = index.search(embeddings_arr_5000, 1)\n",
    "\n",
    "\n",
    "cluster_to_tweets = {cluster_id: [] for cluster_id in range(num_clusters)}\n",
    "\n",
    "tweets_content = [ sample_tweets_5000[i] for i in range(num_tweets) ]\n",
    "\n",
    "\n",
    "for tweet_idx, cluster_id in enumerate(labels):\n",
    "    cluster_to_tweets[cluster_id[0]].append(tweets_content[tweet_idx])\n",
    "\n",
    "cluster_data = []\n",
    "for cluster_id, twe in cluster_to_tweets.items():\n",
    "    for tweet in twe:\n",
    "        cluster_data.append([cluster_id, tweet])\n",
    "\n",
    "\n",
    "clusters= pd.DataFrame(cluster_data, columns=[\"Cluster\", \"Tweet\"])\n",
    "\n",
    "\n"
   ]
  },
  {
   "cell_type": "markdown",
   "id": "41fa51ba",
   "metadata": {},
   "source": [
    "#### Different indexing methods"
   ]
  },
  {
   "cell_type": "code",
   "execution_count": 37,
   "id": "ad367d2f",
   "metadata": {},
   "outputs": [
    {
     "name": "stdout",
     "output_type": "stream",
     "text": [
      "Clustering with indexing time for 5000 Tweets: 0.10212397575378418\n",
      "Clustering with indexing time for 5000 Tweets: 0.10450100898742676\n"
     ]
    },
    {
     "name": "stderr",
     "output_type": "stream",
     "text": [
      "WARNING clustering 5 points to 5 centroids: please provide at least 195 training points\n"
     ]
    },
    {
     "name": "stdout",
     "output_type": "stream",
     "text": [
      "Clustering with indexing time for 5000 Tweets: 0.26079297065734863\n",
      "Clustering with indexing time for 5000 Tweets: 0.03196907043457031\n",
      "Clustering with indexing time for 5000 Tweets: 0.10964107513427734\n",
      "Clustering with indexing time for 5000 Tweets: 0.045368194580078125\n"
     ]
    },
    {
     "data": {
      "text/plain": [
       "{\"<faiss.swigfaiss_avx2.IndexFlatL2; proxy of <Swig Object of type 'faiss::IndexFlatL2 *' at 0x7fd3ae09a3f0> >\": {'clustering_time': 0.10212397575378418},\n",
       " \"<faiss.swigfaiss_avx2.IndexFlatIP; proxy of <Swig Object of type 'faiss::IndexFlatIP *' at 0x7fd24e878d50> >\": {'clustering_time': 0.10450100898742676},\n",
       " \"<faiss.swigfaiss_avx2.IndexIVFFlat; proxy of <Swig Object of type 'faiss::IndexIVFFlat *' at 0x7fd24c7b1e40> >\": {'clustering_time': 0.26079297065734863},\n",
       " \"<faiss.swigfaiss_avx2.IndexHNSWFlat; proxy of <Swig Object of type 'faiss::IndexHNSWFlat *' at 0x7fd24e556630> >\": {'clustering_time': 0.03196907043457031},\n",
       " \"<faiss.swigfaiss_avx2.IndexLSH; proxy of <Swig Object of type 'faiss::IndexLSH *' at 0x7fd241042c00> >\": {'clustering_time': 0.10964107513427734},\n",
       " \"<faiss.swigfaiss_avx2.IndexScalarQuantizer; proxy of <Swig Object of type 'faiss::IndexScalarQuantizer *' at 0x7fd24e887480> >\": {'clustering_time': 0.045368194580078125}}"
      ]
     },
     "execution_count": 37,
     "metadata": {},
     "output_type": "execute_result"
    }
   ],
   "source": [
    "num_tweets, embedding_dim = embeddings_arr_5000.shape\n",
    "faiss.normalize_L2(embeddings_arr_5000)\n",
    "results = {}\n",
    "num_clusters = 5\n",
    "\n",
    "indexing_methods = [\n",
    "    faiss.IndexFlatL2(embedding_dim),\n",
    "    faiss.IndexFlatIP(embedding_dim),\n",
    "    faiss.IndexIVFFlat(faiss.IndexFlatL2(embedding_dim), embedding_dim, num_clusters, faiss.METRIC_L2),\n",
    "    faiss.IndexHNSWFlat(embedding_dim, num_clusters),  # HNSW index\n",
    "    faiss.IndexLSH(embedding_dim, num_clusters),  # LSH index\n",
    "    faiss.IndexScalarQuantizer(embedding_dim, faiss.ScalarQuantizer.QT_8bit),  # Scalar quantizer\n",
    "]\n",
    "for index_method in indexing_methods:\n",
    "    start_time = time.time()\n",
    "    clustering = faiss.Clustering(embedding_dim, num_clusters)\n",
    "\n",
    "    index = index_method\n",
    "    clustering.clus_index = index\n",
    "\n",
    "    clustering.niter = 50\n",
    "\n",
    "    # Train the agglomerative clustering model\n",
    "    clustering.verbose = False  # Enable verbose output for training\n",
    "    clustering.train(embeddings_arr_5000, index)\n",
    "\n",
    "    _, labels = index.search(embeddings_arr_5000, 1)\n",
    "    end_time = time.time()\n",
    "    print(\"Clustering with indexing time for 5000 Tweets: {}\".format(end_time-start_time))\n",
    "\n",
    "    results[str(index_method)] = {\n",
    "        \"clustering_time\": end_time - start_time}\n",
    "results"
   ]
  },
  {
   "cell_type": "code",
   "execution_count": 50,
   "id": "8bd6a25a",
   "metadata": {},
   "outputs": [
    {
     "data": {
      "image/png": "[encoded data removed]",
      "text/plain": [
       "<Figure size 800x600 with 1 Axes>"
      ]
     },
     "metadata": {},
     "output_type": "display_data"
    }
   ],
   "source": [
    "wcss_values = []\n",
    "k_values = range(1, 40)  # Try different values of k\n",
    "num_tweets, embedding_dim = embeddings_arr_5000.shape\n",
    "faiss.normalize_L2(embeddings_arr_5000)\n",
    "\n",
    "\n",
    "\n",
    "for k in k_values:\n",
    "    num_clusters = k\n",
    "\n",
    "    clustering = faiss.Clustering(embedding_dim, num_clusters)\n",
    "    index = faiss.IndexFlatL2(embedding_dim)\n",
    "    clustering.clus_index = index\n",
    "    clustering.niter = 50\n",
    "    clustering.verbose = False\n",
    "\n",
    "    clustering.train(embeddings_arr_5000, index)\n",
    "    \n",
    "    _, labels = index.search(embeddings_arr_5000, 1)\n",
    "    wcss = 0\n",
    "    for cluster_id in range(k):\n",
    "        cluster_points = embeddings_arr_5000[labels[:, 0] == cluster_id]\n",
    "        if len(cluster_points) > 0:\n",
    "            cluster_center = np.mean(cluster_points, axis=0)\n",
    "            wcss += np.sum((cluster_points - cluster_center) ** 2)\n",
    "\n",
    "    wcss_values.append(wcss)\n",
    "\n",
    "plt.figure(figsize=(8, 6))\n",
    "plt.plot(k_values, wcss_values, marker='o')\n",
    "plt.title('Elbow Method for Optimal Number of Clusters')\n",
    "plt.xlabel('Number of Clusters (k)')\n",
    "plt.ylabel('Within-Cluster Sum of Squares (WCSS)')\n",
    "plt.grid(True)\n",
    "plt.show()\n",
    "    "
   ]
  }
 ],
 "metadata": {
  "kernelspec": {
   "display_name": "Python 3 (ipykernel)",
   "language": "python",
   "name": "python3"
  },
  "language_info": {
   "codemirror_mode": {
    "name": "ipython",
    "version": 3
   },
   "file_extension": ".py",
   "mimetype": "text/x-python",
   "name": "python",
   "nbconvert_exporter": "python",
   "pygments_lexer": "ipython3",
   "version": "3.8.8"
  }
 },
 "nbformat": 4,
 "nbformat_minor": 5
}
